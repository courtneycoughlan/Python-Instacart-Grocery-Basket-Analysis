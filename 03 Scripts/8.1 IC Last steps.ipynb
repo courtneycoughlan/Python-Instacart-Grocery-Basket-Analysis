{
 "cells": [
  {
   "cell_type": "markdown",
   "metadata": {},
   "source": [
    "List of contents:\n",
    "1. Import libraries\n",
    "2. Import pkl file\n",
    "3. Security implications check: remove PII\n",
    "4. Exclusion flag: data sample, export of sample\n",
    "5. Data derivation\n",
    "6. Export pkl file"
   ]
  },
  {
   "cell_type": "markdown",
   "metadata": {},
   "source": [
    "1. Import libraries"
   ]
  },
  {
   "cell_type": "code",
   "execution_count": 1,
   "metadata": {},
   "outputs": [],
   "source": [
    "import pandas as pd\n",
    "import numpy as np\n",
    "import os\n",
    "import matplotlib.pyplot as plt\n",
    "import seaborn as sns\n",
    "import scipy"
   ]
  },
  {
   "cell_type": "markdown",
   "metadata": {},
   "source": [
    "2. Import pkl file"
   ]
  },
  {
   "cell_type": "code",
   "execution_count": 3,
   "metadata": {},
   "outputs": [],
   "source": [
    "df_ords_prods_custs = pd.read_pickle(r'C:\\Users\\court\\Instacart Basket Analysis\\02 Data\\Prepared Data\\orders_products_all.pkl')"
   ]
  },
  {
   "cell_type": "code",
   "execution_count": 3,
   "metadata": {},
   "outputs": [],
   "source": [
    "# Create path\n",
    "path = r'C:\\Users\\court\\Instacart Basket Analysis'"
   ]
  },
  {
   "cell_type": "code",
   "execution_count": 4,
   "metadata": {},
   "outputs": [
    {
     "data": {
      "text/plain": [
       "'C:\\\\Users\\\\court\\\\Instacart Basket Analysis'"
      ]
     },
     "execution_count": 4,
     "metadata": {},
     "output_type": "execute_result"
    }
   ],
   "source": [
    "path"
   ]
  },
  {
   "cell_type": "markdown",
   "metadata": {},
   "source": [
    "3. Check for security implications"
   ]
  },
  {
   "cell_type": "code",
   "execution_count": 6,
   "metadata": {},
   "outputs": [],
   "source": [
    "# Remove columns containing PII data\n",
    "df_final = df_ords_prods_custs.drop(columns = ['first_name', 'last_name'])"
   ]
  },
  {
   "cell_type": "code",
   "execution_count": 7,
   "metadata": {},
   "outputs": [
    {
     "data": {
      "text/html": [
       "<div>\n",
       "<style scoped>\n",
       "    .dataframe tbody tr th:only-of-type {\n",
       "        vertical-align: middle;\n",
       "    }\n",
       "\n",
       "    .dataframe tbody tr th {\n",
       "        vertical-align: top;\n",
       "    }\n",
       "\n",
       "    .dataframe thead th {\n",
       "        text-align: right;\n",
       "    }\n",
       "</style>\n",
       "<table border=\"1\" class=\"dataframe\">\n",
       "  <thead>\n",
       "    <tr style=\"text-align: right;\">\n",
       "      <th></th>\n",
       "      <th>user_id</th>\n",
       "      <th>gender</th>\n",
       "      <th>state</th>\n",
       "      <th>age</th>\n",
       "      <th>date_joined</th>\n",
       "      <th>number_of_dependants</th>\n",
       "      <th>family_status</th>\n",
       "      <th>income</th>\n",
       "      <th>product_id</th>\n",
       "      <th>product_name</th>\n",
       "      <th>...</th>\n",
       "      <th>price_range_loc</th>\n",
       "      <th>busiest_day</th>\n",
       "      <th>busiest_day_loc</th>\n",
       "      <th>busiest_period_of_day</th>\n",
       "      <th>max_order</th>\n",
       "      <th>loyalty_flag</th>\n",
       "      <th>mean_price</th>\n",
       "      <th>spending_flag</th>\n",
       "      <th>median_days</th>\n",
       "      <th>frequency_flag</th>\n",
       "    </tr>\n",
       "  </thead>\n",
       "  <tbody>\n",
       "    <tr>\n",
       "      <th>0</th>\n",
       "      <td>26711</td>\n",
       "      <td>Female</td>\n",
       "      <td>Missouri</td>\n",
       "      <td>48</td>\n",
       "      <td>1/1/2017</td>\n",
       "      <td>3</td>\n",
       "      <td>married</td>\n",
       "      <td>165665</td>\n",
       "      <td>196</td>\n",
       "      <td>Soda</td>\n",
       "      <td>...</td>\n",
       "      <td>Mid-range product</td>\n",
       "      <td>Regularly busy</td>\n",
       "      <td>Busiest days</td>\n",
       "      <td>Average orders</td>\n",
       "      <td>8</td>\n",
       "      <td>New customer</td>\n",
       "      <td>7.988889</td>\n",
       "      <td>Low spender</td>\n",
       "      <td>19.0</td>\n",
       "      <td>Regular customer</td>\n",
       "    </tr>\n",
       "    <tr>\n",
       "      <th>1</th>\n",
       "      <td>26711</td>\n",
       "      <td>Female</td>\n",
       "      <td>Missouri</td>\n",
       "      <td>48</td>\n",
       "      <td>1/1/2017</td>\n",
       "      <td>3</td>\n",
       "      <td>married</td>\n",
       "      <td>165665</td>\n",
       "      <td>196</td>\n",
       "      <td>Soda</td>\n",
       "      <td>...</td>\n",
       "      <td>Mid-range product</td>\n",
       "      <td>Regularly busy</td>\n",
       "      <td>NaN</td>\n",
       "      <td>Average orders</td>\n",
       "      <td>8</td>\n",
       "      <td>New customer</td>\n",
       "      <td>7.988889</td>\n",
       "      <td>Low spender</td>\n",
       "      <td>19.0</td>\n",
       "      <td>Regular customer</td>\n",
       "    </tr>\n",
       "    <tr>\n",
       "      <th>2</th>\n",
       "      <td>26711</td>\n",
       "      <td>Female</td>\n",
       "      <td>Missouri</td>\n",
       "      <td>48</td>\n",
       "      <td>1/1/2017</td>\n",
       "      <td>3</td>\n",
       "      <td>married</td>\n",
       "      <td>165665</td>\n",
       "      <td>196</td>\n",
       "      <td>Soda</td>\n",
       "      <td>...</td>\n",
       "      <td>Mid-range product</td>\n",
       "      <td>Regularly busy</td>\n",
       "      <td>Busiest days</td>\n",
       "      <td>Average orders</td>\n",
       "      <td>8</td>\n",
       "      <td>New customer</td>\n",
       "      <td>7.988889</td>\n",
       "      <td>Low spender</td>\n",
       "      <td>19.0</td>\n",
       "      <td>Regular customer</td>\n",
       "    </tr>\n",
       "    <tr>\n",
       "      <th>3</th>\n",
       "      <td>26711</td>\n",
       "      <td>Female</td>\n",
       "      <td>Missouri</td>\n",
       "      <td>48</td>\n",
       "      <td>1/1/2017</td>\n",
       "      <td>3</td>\n",
       "      <td>married</td>\n",
       "      <td>165665</td>\n",
       "      <td>6184</td>\n",
       "      <td>Clementines</td>\n",
       "      <td>...</td>\n",
       "      <td>Low-range product</td>\n",
       "      <td>Regularly busy</td>\n",
       "      <td>NaN</td>\n",
       "      <td>Average orders</td>\n",
       "      <td>8</td>\n",
       "      <td>New customer</td>\n",
       "      <td>7.988889</td>\n",
       "      <td>Low spender</td>\n",
       "      <td>19.0</td>\n",
       "      <td>Regular customer</td>\n",
       "    </tr>\n",
       "    <tr>\n",
       "      <th>4</th>\n",
       "      <td>26711</td>\n",
       "      <td>Female</td>\n",
       "      <td>Missouri</td>\n",
       "      <td>48</td>\n",
       "      <td>1/1/2017</td>\n",
       "      <td>3</td>\n",
       "      <td>married</td>\n",
       "      <td>165665</td>\n",
       "      <td>6184</td>\n",
       "      <td>Clementines</td>\n",
       "      <td>...</td>\n",
       "      <td>Low-range product</td>\n",
       "      <td>Regularly busy</td>\n",
       "      <td>NaN</td>\n",
       "      <td>Average orders</td>\n",
       "      <td>8</td>\n",
       "      <td>New customer</td>\n",
       "      <td>7.988889</td>\n",
       "      <td>Low spender</td>\n",
       "      <td>19.0</td>\n",
       "      <td>Regular customer</td>\n",
       "    </tr>\n",
       "  </tbody>\n",
       "</table>\n",
       "<p>5 rows × 32 columns</p>\n",
       "</div>"
      ],
      "text/plain": [
       "  user_id  gender     state  age date_joined  number_of_dependants  \\\n",
       "0   26711  Female  Missouri   48    1/1/2017                     3   \n",
       "1   26711  Female  Missouri   48    1/1/2017                     3   \n",
       "2   26711  Female  Missouri   48    1/1/2017                     3   \n",
       "3   26711  Female  Missouri   48    1/1/2017                     3   \n",
       "4   26711  Female  Missouri   48    1/1/2017                     3   \n",
       "\n",
       "  family_status  income  product_id product_name  ...    price_range_loc  \\\n",
       "0       married  165665         196         Soda  ...  Mid-range product   \n",
       "1       married  165665         196         Soda  ...  Mid-range product   \n",
       "2       married  165665         196         Soda  ...  Mid-range product   \n",
       "3       married  165665        6184  Clementines  ...  Low-range product   \n",
       "4       married  165665        6184  Clementines  ...  Low-range product   \n",
       "\n",
       "      busiest_day  busiest_day_loc  busiest_period_of_day max_order  \\\n",
       "0  Regularly busy     Busiest days         Average orders         8   \n",
       "1  Regularly busy              NaN         Average orders         8   \n",
       "2  Regularly busy     Busiest days         Average orders         8   \n",
       "3  Regularly busy              NaN         Average orders         8   \n",
       "4  Regularly busy              NaN         Average orders         8   \n",
       "\n",
       "   loyalty_flag  mean_price  spending_flag  median_days    frequency_flag  \n",
       "0  New customer    7.988889    Low spender         19.0  Regular customer  \n",
       "1  New customer    7.988889    Low spender         19.0  Regular customer  \n",
       "2  New customer    7.988889    Low spender         19.0  Regular customer  \n",
       "3  New customer    7.988889    Low spender         19.0  Regular customer  \n",
       "4  New customer    7.988889    Low spender         19.0  Regular customer  \n",
       "\n",
       "[5 rows x 32 columns]"
      ]
     },
     "execution_count": 7,
     "metadata": {},
     "output_type": "execute_result"
    }
   ],
   "source": [
    "#View data for PII data\n",
    "df_final.head()"
   ]
  },
  {
   "cell_type": "markdown",
   "metadata": {},
   "source": [
    "4. Exclusion flag"
   ]
  },
  {
   "cell_type": "code",
   "execution_count": 15,
   "metadata": {},
   "outputs": [],
   "source": [
    "# Mark customers with less than 5 orders as missing values\n",
    "df_final.loc[df_final['max_order'] <5, 'max_order'] = np.nan"
   ]
  },
  {
   "cell_type": "code",
   "execution_count": 16,
   "metadata": {},
   "outputs": [
    {
     "data": {
      "text/plain": [
       "5.0"
      ]
     },
     "execution_count": 16,
     "metadata": {},
     "output_type": "execute_result"
    }
   ],
   "source": [
    "# Check newest minimal order amount\n",
    "df_final['max_order'].min()"
   ]
  },
  {
   "cell_type": "code",
   "execution_count": 17,
   "metadata": {},
   "outputs": [],
   "source": [
    "# View missing values\n",
    "df_nan = df_final[df_final['max_order'].isnull() == True]"
   ]
  },
  {
   "cell_type": "code",
   "execution_count": 18,
   "metadata": {},
   "outputs": [
    {
     "data": {
      "text/html": [
       "<div>\n",
       "<style scoped>\n",
       "    .dataframe tbody tr th:only-of-type {\n",
       "        vertical-align: middle;\n",
       "    }\n",
       "\n",
       "    .dataframe tbody tr th {\n",
       "        vertical-align: top;\n",
       "    }\n",
       "\n",
       "    .dataframe thead th {\n",
       "        text-align: right;\n",
       "    }\n",
       "</style>\n",
       "<table border=\"1\" class=\"dataframe\">\n",
       "  <thead>\n",
       "    <tr style=\"text-align: right;\">\n",
       "      <th></th>\n",
       "      <th>user_id</th>\n",
       "      <th>gender</th>\n",
       "      <th>state</th>\n",
       "      <th>age</th>\n",
       "      <th>date_joined</th>\n",
       "      <th>number_of_dependants</th>\n",
       "      <th>family_status</th>\n",
       "      <th>income</th>\n",
       "      <th>product_id</th>\n",
       "      <th>product_name</th>\n",
       "      <th>...</th>\n",
       "      <th>busiest_day</th>\n",
       "      <th>busiest_day_loc</th>\n",
       "      <th>busiest_period_of_day</th>\n",
       "      <th>max_order</th>\n",
       "      <th>loyalty_flag</th>\n",
       "      <th>mean_price</th>\n",
       "      <th>spending_flag</th>\n",
       "      <th>median_days</th>\n",
       "      <th>frequency_flag</th>\n",
       "      <th>region</th>\n",
       "    </tr>\n",
       "  </thead>\n",
       "  <tbody>\n",
       "    <tr>\n",
       "      <th>729</th>\n",
       "      <td>168851</td>\n",
       "      <td>Male</td>\n",
       "      <td>South Carolina</td>\n",
       "      <td>30</td>\n",
       "      <td>1/1/2017</td>\n",
       "      <td>0</td>\n",
       "      <td>single</td>\n",
       "      <td>63712</td>\n",
       "      <td>102</td>\n",
       "      <td>Danish Butter Cookies</td>\n",
       "      <td>...</td>\n",
       "      <td>Regularly busy</td>\n",
       "      <td>NaN</td>\n",
       "      <td>Average orders</td>\n",
       "      <td>NaN</td>\n",
       "      <td>New customer</td>\n",
       "      <td>7.485714</td>\n",
       "      <td>Low spender</td>\n",
       "      <td>20.5</td>\n",
       "      <td>Non-frequent customer</td>\n",
       "      <td>South</td>\n",
       "    </tr>\n",
       "    <tr>\n",
       "      <th>730</th>\n",
       "      <td>168851</td>\n",
       "      <td>Male</td>\n",
       "      <td>South Carolina</td>\n",
       "      <td>30</td>\n",
       "      <td>1/1/2017</td>\n",
       "      <td>0</td>\n",
       "      <td>single</td>\n",
       "      <td>63712</td>\n",
       "      <td>130</td>\n",
       "      <td>Vanilla Milk Chocolate Almond Ice Cream Bars M...</td>\n",
       "      <td>...</td>\n",
       "      <td>Regularly busy</td>\n",
       "      <td>NaN</td>\n",
       "      <td>Average orders</td>\n",
       "      <td>NaN</td>\n",
       "      <td>New customer</td>\n",
       "      <td>7.485714</td>\n",
       "      <td>Low spender</td>\n",
       "      <td>20.5</td>\n",
       "      <td>Non-frequent customer</td>\n",
       "      <td>South</td>\n",
       "    </tr>\n",
       "    <tr>\n",
       "      <th>731</th>\n",
       "      <td>168851</td>\n",
       "      <td>Male</td>\n",
       "      <td>South Carolina</td>\n",
       "      <td>30</td>\n",
       "      <td>1/1/2017</td>\n",
       "      <td>0</td>\n",
       "      <td>single</td>\n",
       "      <td>63712</td>\n",
       "      <td>130</td>\n",
       "      <td>Vanilla Milk Chocolate Almond Ice Cream Bars M...</td>\n",
       "      <td>...</td>\n",
       "      <td>Regularly busy</td>\n",
       "      <td>Slowest days</td>\n",
       "      <td>Average orders</td>\n",
       "      <td>NaN</td>\n",
       "      <td>New customer</td>\n",
       "      <td>7.485714</td>\n",
       "      <td>Low spender</td>\n",
       "      <td>20.5</td>\n",
       "      <td>Non-frequent customer</td>\n",
       "      <td>South</td>\n",
       "    </tr>\n",
       "    <tr>\n",
       "      <th>732</th>\n",
       "      <td>168851</td>\n",
       "      <td>Male</td>\n",
       "      <td>South Carolina</td>\n",
       "      <td>30</td>\n",
       "      <td>1/1/2017</td>\n",
       "      <td>0</td>\n",
       "      <td>single</td>\n",
       "      <td>63712</td>\n",
       "      <td>130</td>\n",
       "      <td>Vanilla Milk Chocolate Almond Ice Cream Bars M...</td>\n",
       "      <td>...</td>\n",
       "      <td>Regularly busy</td>\n",
       "      <td>Busiest days</td>\n",
       "      <td>Average orders</td>\n",
       "      <td>NaN</td>\n",
       "      <td>New customer</td>\n",
       "      <td>7.485714</td>\n",
       "      <td>Low spender</td>\n",
       "      <td>20.5</td>\n",
       "      <td>Non-frequent customer</td>\n",
       "      <td>South</td>\n",
       "    </tr>\n",
       "    <tr>\n",
       "      <th>733</th>\n",
       "      <td>168851</td>\n",
       "      <td>Male</td>\n",
       "      <td>South Carolina</td>\n",
       "      <td>30</td>\n",
       "      <td>1/1/2017</td>\n",
       "      <td>0</td>\n",
       "      <td>single</td>\n",
       "      <td>63712</td>\n",
       "      <td>196</td>\n",
       "      <td>Soda</td>\n",
       "      <td>...</td>\n",
       "      <td>Regularly busy</td>\n",
       "      <td>NaN</td>\n",
       "      <td>Average orders</td>\n",
       "      <td>NaN</td>\n",
       "      <td>New customer</td>\n",
       "      <td>7.485714</td>\n",
       "      <td>Low spender</td>\n",
       "      <td>20.5</td>\n",
       "      <td>Non-frequent customer</td>\n",
       "      <td>South</td>\n",
       "    </tr>\n",
       "    <tr>\n",
       "      <th>...</th>\n",
       "      <td>...</td>\n",
       "      <td>...</td>\n",
       "      <td>...</td>\n",
       "      <td>...</td>\n",
       "      <td>...</td>\n",
       "      <td>...</td>\n",
       "      <td>...</td>\n",
       "      <td>...</td>\n",
       "      <td>...</td>\n",
       "      <td>...</td>\n",
       "      <td>...</td>\n",
       "      <td>...</td>\n",
       "      <td>...</td>\n",
       "      <td>...</td>\n",
       "      <td>...</td>\n",
       "      <td>...</td>\n",
       "      <td>...</td>\n",
       "      <td>...</td>\n",
       "      <td>...</td>\n",
       "      <td>...</td>\n",
       "      <td>...</td>\n",
       "    </tr>\n",
       "    <tr>\n",
       "      <th>32404854</th>\n",
       "      <td>80148</td>\n",
       "      <td>Female</td>\n",
       "      <td>New York</td>\n",
       "      <td>55</td>\n",
       "      <td>4/1/2020</td>\n",
       "      <td>1</td>\n",
       "      <td>married</td>\n",
       "      <td>57095</td>\n",
       "      <td>38750</td>\n",
       "      <td>Protein Bar, Chocolate Pretzel</td>\n",
       "      <td>...</td>\n",
       "      <td>Regularly busy</td>\n",
       "      <td>NaN</td>\n",
       "      <td>Average orders</td>\n",
       "      <td>NaN</td>\n",
       "      <td>New customer</td>\n",
       "      <td>3.886667</td>\n",
       "      <td>Low spender</td>\n",
       "      <td>12.0</td>\n",
       "      <td>Regular customer</td>\n",
       "      <td>Northeast</td>\n",
       "    </tr>\n",
       "    <tr>\n",
       "      <th>32404855</th>\n",
       "      <td>80148</td>\n",
       "      <td>Female</td>\n",
       "      <td>New York</td>\n",
       "      <td>55</td>\n",
       "      <td>4/1/2020</td>\n",
       "      <td>1</td>\n",
       "      <td>married</td>\n",
       "      <td>57095</td>\n",
       "      <td>39069</td>\n",
       "      <td>Chocolate Coconut Almond Protein Bar</td>\n",
       "      <td>...</td>\n",
       "      <td>Regularly busy</td>\n",
       "      <td>NaN</td>\n",
       "      <td>Average orders</td>\n",
       "      <td>NaN</td>\n",
       "      <td>New customer</td>\n",
       "      <td>3.886667</td>\n",
       "      <td>Low spender</td>\n",
       "      <td>12.0</td>\n",
       "      <td>Regular customer</td>\n",
       "      <td>Northeast</td>\n",
       "    </tr>\n",
       "    <tr>\n",
       "      <th>32404856</th>\n",
       "      <td>80148</td>\n",
       "      <td>Female</td>\n",
       "      <td>New York</td>\n",
       "      <td>55</td>\n",
       "      <td>4/1/2020</td>\n",
       "      <td>1</td>\n",
       "      <td>married</td>\n",
       "      <td>57095</td>\n",
       "      <td>39972</td>\n",
       "      <td>Chocolate Fudge High Protein Bar</td>\n",
       "      <td>...</td>\n",
       "      <td>Regularly busy</td>\n",
       "      <td>NaN</td>\n",
       "      <td>Average orders</td>\n",
       "      <td>NaN</td>\n",
       "      <td>New customer</td>\n",
       "      <td>3.886667</td>\n",
       "      <td>Low spender</td>\n",
       "      <td>12.0</td>\n",
       "      <td>Regular customer</td>\n",
       "      <td>Northeast</td>\n",
       "    </tr>\n",
       "    <tr>\n",
       "      <th>32404857</th>\n",
       "      <td>80148</td>\n",
       "      <td>Female</td>\n",
       "      <td>New York</td>\n",
       "      <td>55</td>\n",
       "      <td>4/1/2020</td>\n",
       "      <td>1</td>\n",
       "      <td>married</td>\n",
       "      <td>57095</td>\n",
       "      <td>41427</td>\n",
       "      <td>Cookies 'N Cream Protein Bar</td>\n",
       "      <td>...</td>\n",
       "      <td>Regularly busy</td>\n",
       "      <td>NaN</td>\n",
       "      <td>Average orders</td>\n",
       "      <td>NaN</td>\n",
       "      <td>New customer</td>\n",
       "      <td>3.886667</td>\n",
       "      <td>Low spender</td>\n",
       "      <td>12.0</td>\n",
       "      <td>Regular customer</td>\n",
       "      <td>Northeast</td>\n",
       "    </tr>\n",
       "    <tr>\n",
       "      <th>32404858</th>\n",
       "      <td>80148</td>\n",
       "      <td>Female</td>\n",
       "      <td>New York</td>\n",
       "      <td>55</td>\n",
       "      <td>4/1/2020</td>\n",
       "      <td>1</td>\n",
       "      <td>married</td>\n",
       "      <td>57095</td>\n",
       "      <td>48335</td>\n",
       "      <td>Chocolate Brownie Energy Bar</td>\n",
       "      <td>...</td>\n",
       "      <td>Regularly busy</td>\n",
       "      <td>NaN</td>\n",
       "      <td>Average orders</td>\n",
       "      <td>NaN</td>\n",
       "      <td>New customer</td>\n",
       "      <td>3.886667</td>\n",
       "      <td>Low spender</td>\n",
       "      <td>12.0</td>\n",
       "      <td>Regular customer</td>\n",
       "      <td>Northeast</td>\n",
       "    </tr>\n",
       "  </tbody>\n",
       "</table>\n",
       "<p>1440295 rows × 33 columns</p>\n",
       "</div>"
      ],
      "text/plain": [
       "         user_id  gender           state  age date_joined  \\\n",
       "729       168851    Male  South Carolina   30    1/1/2017   \n",
       "730       168851    Male  South Carolina   30    1/1/2017   \n",
       "731       168851    Male  South Carolina   30    1/1/2017   \n",
       "732       168851    Male  South Carolina   30    1/1/2017   \n",
       "733       168851    Male  South Carolina   30    1/1/2017   \n",
       "...          ...     ...             ...  ...         ...   \n",
       "32404854   80148  Female        New York   55    4/1/2020   \n",
       "32404855   80148  Female        New York   55    4/1/2020   \n",
       "32404856   80148  Female        New York   55    4/1/2020   \n",
       "32404857   80148  Female        New York   55    4/1/2020   \n",
       "32404858   80148  Female        New York   55    4/1/2020   \n",
       "\n",
       "          number_of_dependants family_status  income  product_id  \\\n",
       "729                          0        single   63712         102   \n",
       "730                          0        single   63712         130   \n",
       "731                          0        single   63712         130   \n",
       "732                          0        single   63712         130   \n",
       "733                          0        single   63712         196   \n",
       "...                        ...           ...     ...         ...   \n",
       "32404854                     1       married   57095       38750   \n",
       "32404855                     1       married   57095       39069   \n",
       "32404856                     1       married   57095       39972   \n",
       "32404857                     1       married   57095       41427   \n",
       "32404858                     1       married   57095       48335   \n",
       "\n",
       "                                               product_name  ...  \\\n",
       "729                                   Danish Butter Cookies  ...   \n",
       "730       Vanilla Milk Chocolate Almond Ice Cream Bars M...  ...   \n",
       "731       Vanilla Milk Chocolate Almond Ice Cream Bars M...  ...   \n",
       "732       Vanilla Milk Chocolate Almond Ice Cream Bars M...  ...   \n",
       "733                                                    Soda  ...   \n",
       "...                                                     ...  ...   \n",
       "32404854                     Protein Bar, Chocolate Pretzel  ...   \n",
       "32404855               Chocolate Coconut Almond Protein Bar  ...   \n",
       "32404856                   Chocolate Fudge High Protein Bar  ...   \n",
       "32404857                       Cookies 'N Cream Protein Bar  ...   \n",
       "32404858                       Chocolate Brownie Energy Bar  ...   \n",
       "\n",
       "             busiest_day  busiest_day_loc  busiest_period_of_day  max_order  \\\n",
       "729       Regularly busy              NaN         Average orders        NaN   \n",
       "730       Regularly busy              NaN         Average orders        NaN   \n",
       "731       Regularly busy     Slowest days         Average orders        NaN   \n",
       "732       Regularly busy     Busiest days         Average orders        NaN   \n",
       "733       Regularly busy              NaN         Average orders        NaN   \n",
       "...                  ...              ...                    ...        ...   \n",
       "32404854  Regularly busy              NaN         Average orders        NaN   \n",
       "32404855  Regularly busy              NaN         Average orders        NaN   \n",
       "32404856  Regularly busy              NaN         Average orders        NaN   \n",
       "32404857  Regularly busy              NaN         Average orders        NaN   \n",
       "32404858  Regularly busy              NaN         Average orders        NaN   \n",
       "\n",
       "          loyalty_flag  mean_price  spending_flag  median_days  \\\n",
       "729       New customer    7.485714    Low spender         20.5   \n",
       "730       New customer    7.485714    Low spender         20.5   \n",
       "731       New customer    7.485714    Low spender         20.5   \n",
       "732       New customer    7.485714    Low spender         20.5   \n",
       "733       New customer    7.485714    Low spender         20.5   \n",
       "...                ...         ...            ...          ...   \n",
       "32404854  New customer    3.886667    Low spender         12.0   \n",
       "32404855  New customer    3.886667    Low spender         12.0   \n",
       "32404856  New customer    3.886667    Low spender         12.0   \n",
       "32404857  New customer    3.886667    Low spender         12.0   \n",
       "32404858  New customer    3.886667    Low spender         12.0   \n",
       "\n",
       "                 frequency_flag     region  \n",
       "729       Non-frequent customer      South  \n",
       "730       Non-frequent customer      South  \n",
       "731       Non-frequent customer      South  \n",
       "732       Non-frequent customer      South  \n",
       "733       Non-frequent customer      South  \n",
       "...                         ...        ...  \n",
       "32404854       Regular customer  Northeast  \n",
       "32404855       Regular customer  Northeast  \n",
       "32404856       Regular customer  Northeast  \n",
       "32404857       Regular customer  Northeast  \n",
       "32404858       Regular customer  Northeast  \n",
       "\n",
       "[1440295 rows x 33 columns]"
      ]
     },
     "execution_count": 18,
     "metadata": {},
     "output_type": "execute_result"
    }
   ],
   "source": [
    "df_nan"
   ]
  },
  {
   "cell_type": "code",
   "execution_count": 19,
   "metadata": {},
   "outputs": [
    {
     "data": {
      "text/plain": [
       "NaN    1440295\n",
       "Name: max_order, dtype: int64"
      ]
     },
     "execution_count": 19,
     "metadata": {},
     "output_type": "execute_result"
    }
   ],
   "source": [
    "# Count how many 'max_orders' having missing values\n",
    "df_nan['max_order'].value_counts(dropna = False)"
   ]
  },
  {
   "cell_type": "code",
   "execution_count": 20,
   "metadata": {},
   "outputs": [
    {
     "data": {
      "text/plain": [
       "(32404859, 33)"
      ]
     },
     "execution_count": 20,
     "metadata": {},
     "output_type": "execute_result"
    }
   ],
   "source": [
    "# Find number of rows in original df\n",
    "df_final.shape"
   ]
  },
  {
   "cell_type": "code",
   "execution_count": 21,
   "metadata": {},
   "outputs": [],
   "source": [
    "# Create new dataframe filtering out missing values\n",
    "df_final_clean = df_final[df_final['max_order'].isnull() == False]"
   ]
  },
  {
   "cell_type": "code",
   "execution_count": 22,
   "metadata": {},
   "outputs": [
    {
     "data": {
      "text/plain": [
       "(30964564, 33)"
      ]
     },
     "execution_count": 22,
     "metadata": {},
     "output_type": "execute_result"
    }
   ],
   "source": [
    "# Check number of rows in df\n",
    "df_final_clean.shape"
   ]
  },
  {
   "cell_type": "code",
   "execution_count": 23,
   "metadata": {},
   "outputs": [],
   "source": [
    "# Make sample of df_final_clean\n",
    "np.random.seed(4)"
   ]
  },
  {
   "cell_type": "code",
   "execution_count": 24,
   "metadata": {},
   "outputs": [],
   "source": [
    "dev = np.random.rand(len(df_final_clean)) <=0.7"
   ]
  },
  {
   "cell_type": "code",
   "execution_count": 25,
   "metadata": {},
   "outputs": [],
   "source": [
    "# Make big df with 70% of data\n",
    "big = df_final_clean[dev]"
   ]
  },
  {
   "cell_type": "code",
   "execution_count": 26,
   "metadata": {},
   "outputs": [],
   "source": [
    "# Make small df with 30% of data\n",
    "small = df_final_clean[~dev]"
   ]
  },
  {
   "cell_type": "code",
   "execution_count": 27,
   "metadata": {},
   "outputs": [
    {
     "data": {
      "text/plain": [
       "30964564"
      ]
     },
     "execution_count": 27,
     "metadata": {},
     "output_type": "execute_result"
    }
   ],
   "source": [
    "# Check number of rows and columns \n",
    "len(df_final_clean)"
   ]
  },
  {
   "cell_type": "code",
   "execution_count": 28,
   "metadata": {},
   "outputs": [
    {
     "data": {
      "text/plain": [
       "30964564"
      ]
     },
     "execution_count": 28,
     "metadata": {},
     "output_type": "execute_result"
    }
   ],
   "source": [
    "len(big) + len(small)"
   ]
  },
  {
   "cell_type": "code",
   "execution_count": 29,
   "metadata": {},
   "outputs": [],
   "source": [
    "# Export sample of df_final_clean as pkl\n",
    "small.to_pickle(os.path.join(path, '02 Data', 'Prepared Data', 'data_without_low_activity_customers.pkl'))"
   ]
  },
  {
   "cell_type": "markdown",
   "metadata": {},
   "source": [
    "5. Data derivation"
   ]
  },
  {
   "cell_type": "code",
   "execution_count": 8,
   "metadata": {},
   "outputs": [],
   "source": [
    "# Assign states to regions\n",
    "df_final.loc[df_final['state'].isin(['Maine', 'New Hampshire', 'Vermont', 'Massachusetts', 'Rhode Island', 'Connecticut', 'New York', 'Pennsylvania', 'New Jersey']), 'region'] = 'Northeast'"
   ]
  },
  {
   "cell_type": "code",
   "execution_count": 9,
   "metadata": {},
   "outputs": [],
   "source": [
    "df_final.loc[df_final['state'].isin(['Wisconsin', 'Michigan', 'Illinois', 'Indiana', 'Ohio', 'North Dakota', 'South Dakota', 'Nebraska', 'Kansas', 'Minnesota', 'Iowa', 'Missouri']), 'region'] = 'Midwest'"
   ]
  },
  {
   "cell_type": "code",
   "execution_count": 10,
   "metadata": {},
   "outputs": [],
   "source": [
    "df_final.loc[df_final['state'].isin(['Delaware', 'Maryland', 'District of Columbia', 'Virginia', 'West Virginia', 'North Carolina', 'South Carolina', 'Georgia', 'Florida', 'Kentucky', 'Tennessee', 'Mississippi', 'Alabama', 'Oklahoma', 'Texas', 'Arkansas', 'Lousiana']), 'region'] = 'South'"
   ]
  },
  {
   "cell_type": "code",
   "execution_count": 11,
   "metadata": {},
   "outputs": [],
   "source": [
    "df_final.loc[df_final['state'].isin(['Idaho', 'Montana', 'Wyoming', 'Nevada', 'Utah', 'Colorado', 'Arizona', 'New Mexico', 'Alaska', 'Washington', 'Oregon', 'California', 'Hawaii']), 'region'] = 'West'"
   ]
  },
  {
   "cell_type": "code",
   "execution_count": 12,
   "metadata": {},
   "outputs": [
    {
     "data": {
      "text/plain": [
       "South        10154403\n",
       "West          8292913\n",
       "Midwest       7597325\n",
       "Northeast     5722736\n",
       "NaN            637482\n",
       "Name: region, dtype: int64"
      ]
     },
     "execution_count": 12,
     "metadata": {},
     "output_type": "execute_result"
    }
   ],
   "source": [
    "# View frequency counts\n",
    "df_final['region'].value_counts(dropna = False)"
   ]
  },
  {
   "cell_type": "code",
   "execution_count": 13,
   "metadata": {},
   "outputs": [],
   "source": [
    "# Crosstab to further analyze data of regions and spending habits\n",
    "crosstab = pd.crosstab(df_final['region'], df_final['spending_flag'], dropna = False)"
   ]
  },
  {
   "cell_type": "code",
   "execution_count": 14,
   "metadata": {},
   "outputs": [],
   "source": [
    "crosstab.to_clipboard()"
   ]
  },
  {
   "cell_type": "code",
   "execution_count": 30,
   "metadata": {},
   "outputs": [],
   "source": [
    "# Assign flags to different demographics\n",
    "\n",
    "def customer_age(row):\n",
    "\n",
    "  if row['age'] <= 39:\n",
    "    return 'Young adults'\n",
    "  elif (row['age'] > 39) and (row['age'] <= 64):\n",
    "    return 'Middle age adults'\n",
    "  elif row['age'] > 64:\n",
    "    return 'Older adults'\n",
    "  else: return 'Not enough data'"
   ]
  },
  {
   "cell_type": "code",
   "execution_count": 31,
   "metadata": {},
   "outputs": [
    {
     "name": "stderr",
     "output_type": "stream",
     "text": [
      "<ipython-input-31-fb8f29dee031>:2: SettingWithCopyWarning: \n",
      "A value is trying to be set on a copy of a slice from a DataFrame.\n",
      "Try using .loc[row_indexer,col_indexer] = value instead\n",
      "\n",
      "See the caveats in the documentation: https://pandas.pydata.org/pandas-docs/stable/user_guide/indexing.html#returning-a-view-versus-a-copy\n",
      "  small['age_group'] = small.apply(customer_age, axis=1)\n"
     ]
    }
   ],
   "source": [
    "# Apply the function\n",
    "small['age_group'] = small.apply(customer_age, axis=1)"
   ]
  },
  {
   "cell_type": "code",
   "execution_count": 32,
   "metadata": {},
   "outputs": [
    {
     "data": {
      "text/plain": [
       "Middle age adults    3630528\n",
       "Young adults         3200238\n",
       "Older adults         2457702\n",
       "Name: age_group, dtype: int64"
      ]
     },
     "execution_count": 32,
     "metadata": {},
     "output_type": "execute_result"
    }
   ],
   "source": [
    "# Check frequency\n",
    "small['age_group'].value_counts(dropna = False)"
   ]
  },
  {
   "cell_type": "code",
   "execution_count": 36,
   "metadata": {},
   "outputs": [],
   "source": [
    "# Define function for multiple customer characteristics\n",
    "\n",
    "def characteristics_label(row):\n",
    "\n",
    "  if (row['number_of_dependants'] <= 0) and (row['family_status'] == 'single'):\n",
    "    return 'Single adult'\n",
    "  elif (row['number_of_dependants'] == 1) and (row['family_status'] == 'married'):\n",
    "    return 'Couple with no kids'\n",
    "  elif (row['number_of_dependants'] <= 0) and (row['family_status'] == 'divorced/widowed'):\n",
    "    return 'Other single adult'\n",
    "  elif (row['number_of_dependants'] <= 0) and (row['family_status'] == 'living with parents and siblings'):\n",
    "    return 'Single adult still living with parents'\n",
    "  elif (row['number_of_dependants'] > 1) and (row['age'] > 40):\n",
    "    return 'Older parents'\n",
    "  elif (row['number_of_dependants'] > 1) and (row['age'] < 40):\n",
    "    return 'Younger parents'\n",
    "  else: return 'Other'"
   ]
  },
  {
   "cell_type": "code",
   "execution_count": 37,
   "metadata": {},
   "outputs": [
    {
     "name": "stderr",
     "output_type": "stream",
     "text": [
      "<ipython-input-37-12f860e90ed9>:2: SettingWithCopyWarning: \n",
      "A value is trying to be set on a copy of a slice from a DataFrame.\n",
      "Try using .loc[row_indexer,col_indexer] = value instead\n",
      "\n",
      "See the caveats in the documentation: https://pandas.pydata.org/pandas-docs/stable/user_guide/indexing.html#returning-a-view-versus-a-copy\n",
      "  small['unique_customers'] = small.apply(characteristics_label, axis=1)\n"
     ]
    }
   ],
   "source": [
    "# Apply the function\n",
    "small['unique_customers'] = small.apply(characteristics_label, axis=1)"
   ]
  },
  {
   "cell_type": "code",
   "execution_count": 38,
   "metadata": {},
   "outputs": [
    {
     "data": {
      "text/plain": [
       "Older parents          2977371\n",
       "Couple with no kids    2161406\n",
       "Younger parents        1604677\n",
       "Single adult           1527957\n",
       "Other single adult      793180\n",
       "Other                   223877\n",
       "Name: unique_customers, dtype: int64"
      ]
     },
     "execution_count": 38,
     "metadata": {},
     "output_type": "execute_result"
    }
   ],
   "source": [
    "# Check frequency\n",
    "small['unique_customers'].value_counts(dropna = False)"
   ]
  },
  {
   "cell_type": "markdown",
   "metadata": {},
   "source": [
    "6. Export pkl file"
   ]
  },
  {
   "cell_type": "code",
   "execution_count": 39,
   "metadata": {},
   "outputs": [],
   "source": [
    "# Export small as pkl for further analysis\n",
    "small.to_pickle(os.path.join(path, '02 Data', 'Prepared Data', 'orders_products_all.pkl'))"
   ]
  }
 ],
 "metadata": {
  "kernelspec": {
   "display_name": "Python 3",
   "language": "python",
   "name": "python3"
  },
  "language_info": {
   "codemirror_mode": {
    "name": "ipython",
    "version": 3
   },
   "file_extension": ".py",
   "mimetype": "text/x-python",
   "name": "python",
   "nbconvert_exporter": "python",
   "pygments_lexer": "ipython3",
   "version": "3.8.5"
  }
 },
 "nbformat": 4,
 "nbformat_minor": 4
}
